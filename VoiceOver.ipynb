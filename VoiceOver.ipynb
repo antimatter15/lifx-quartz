{
 "cells": [
  {
   "cell_type": "code",
   "execution_count": 4,
   "metadata": {
    "collapsed": false
   },
   "outputs": [
    {
     "name": "stdout",
     "output_type": "stream",
     "text": [
      "Pasteboard string:  pb = NSPasteboard.generalPasteboard()\n"
     ]
    }
   ],
   "source": [
    "# Reading text from the clipboard\n",
    "\n",
    "from AppKit import *\n",
    "\n",
    "pb = NSPasteboard.generalPasteboard()\n",
    "pbstring = pb.stringForType_(NSStringPboardType)\n",
    "print \"Pasteboard string: \", pbstring"
   ]
  },
  {
   "cell_type": "code",
   "execution_count": 6,
   "metadata": {
    "collapsed": false
   },
   "outputs": [
    {
     "name": "stdout",
     "output_type": "stream",
     "text": [
      "<NSPoint x=0.0 y=0.0>\n"
     ]
    },
    {
     "ename": "TypeError",
     "evalue": "function takes exactly 6 arguments (5 given)",
     "output_type": "error",
     "traceback": [
      "\u001b[0;31m---------------------------------------------------------------------------\u001b[0m",
      "\u001b[0;31mTypeError\u001b[0m                                 Traceback (most recent call last)",
      "\u001b[0;32m<ipython-input-6-fbcbbecbe591>\u001b[0m in \u001b[0;36m<module>\u001b[0;34m()\u001b[0m\n\u001b[1;32m     10\u001b[0m     \u001b[0mkCGEventTapOptionDefault\u001b[0m\u001b[0;34m,\u001b[0m\u001b[0;34m\u001b[0m\u001b[0m\n\u001b[1;32m     11\u001b[0m     \u001b[0mCGEventMaskBit\u001b[0m\u001b[0;34m(\u001b[0m\u001b[0mkCGEventMouseMoved\u001b[0m\u001b[0;34m)\u001b[0m\u001b[0;34m,\u001b[0m\u001b[0;34m\u001b[0m\u001b[0m\n\u001b[0;32m---> 12\u001b[0;31m     callback(CGEventRef) )\n\u001b[0m\u001b[1;32m     13\u001b[0m \u001b[0;34m\u001b[0m\u001b[0m\n\u001b[1;32m     14\u001b[0m \u001b[0mloop\u001b[0m \u001b[0;34m=\u001b[0m \u001b[0mCFMachPortCreateRunLoopSource\u001b[0m\u001b[0;34m(\u001b[0m\u001b[0mNone\u001b[0m\u001b[0;34m,\u001b[0m \u001b[0mtap\u001b[0m\u001b[0;34m,\u001b[0m \u001b[0;36m0\u001b[0m\u001b[0;34m)\u001b[0m\u001b[0;34m\u001b[0m\u001b[0m\n",
      "\u001b[0;31mTypeError\u001b[0m: function takes exactly 6 arguments (5 given)"
     ]
    }
   ],
   "source": [
    "from Quartz.CoreGraphics import * \n",
    "\n",
    "def callback(ent):\n",
    "    loc = CGEventGetLocation(ent)\n",
    "    print loc\n",
    "\n",
    "tap = CGEventTapCreate(\n",
    "    kCGSessionEventTap,\n",
    "    kCGHeadInsertEventTap, \n",
    "    kCGEventTapOptionDefault,\n",
    "    CGEventMaskBit(kCGEventMouseMoved),\n",
    "    callback(CGEventRef) )\n",
    "\n",
    "loop = CFMachPortCreateRunLoopSource(None, tap, 0)\n",
    "CFRunLoopAddSource(CFRunLoopGetCurrent(), loop, kCFRunLoopCommonModes)\n",
    "\n",
    "RunApplicationEventLoop()"
   ]
  },
  {
   "cell_type": "code",
   "execution_count": 7,
   "metadata": {
    "collapsed": false
   },
   "outputs": [
    {
     "ename": "ImportError",
     "evalue": "No module named NSEvent",
     "output_type": "error",
     "traceback": [
      "\u001b[0;31m---------------------------------------------------------------------------\u001b[0m",
      "\u001b[0;31mImportError\u001b[0m                               Traceback (most recent call last)",
      "\u001b[0;32m<ipython-input-7-22d984f0c1b3>\u001b[0m in \u001b[0;36m<module>\u001b[0;34m()\u001b[0m\n\u001b[0;32m----> 1\u001b[0;31m \u001b[0;32mfrom\u001b[0m \u001b[0mNSEvent\u001b[0m \u001b[0;32mimport\u001b[0m \u001b[0mmouseLocation\u001b[0m\u001b[0;34m\u001b[0m\u001b[0m\n\u001b[0m",
      "\u001b[0;31mImportError\u001b[0m: No module named NSEvent"
     ]
    }
   ],
   "source": [
    "from NSEvent import mouseLocation"
   ]
  },
  {
   "cell_type": "code",
   "execution_count": 30,
   "metadata": {
    "collapsed": false
   },
   "outputs": [
    {
     "name": "stdout",
     "output_type": "stream",
     "text": [
      "<NSPoint x=283.90625 y=253.6640625>\n",
      "<NSPoint x=283.90625 y=253.6640625> <NSPoint x=283.90625 y=253.6640625>\n"
     ]
    }
   ],
   "source": [
    "nsPoint = NSEvent.mouseLocation()\n",
    "print nsPoint\n",
    "# note that this NSPoint has the origin x=0, y=0 positioned on the bottom left\n",
    "# whereas CG coordinates have the origin on the top left\n",
    "\n",
    "# \t    CGPoint pointAsCGPoint = [UIElementUtilities carbonScreenPointFromCocoaScreenPoint:cocoaPoint];\n",
    "cgPoint = NSPointFromCGPoint (NSPointToCGPoint(nsPoint))\n",
    "print cgPoint, nsPoint"
   ]
  },
  {
   "cell_type": "code",
   "execution_count": 31,
   "metadata": {
    "collapsed": false
   },
   "outputs": [
    {
     "name": "stdout",
     "output_type": "stream",
     "text": [
      "Location? x= 488.320312, y = 691.597656\n"
     ]
    }
   ],
   "source": [
    "ourEvent = CGEventCreate(None);\n",
    "point = CGEventGetLocation(ourEvent);\n",
    "print \"Location? x= %f, y = %f\" % (point.x, point.y)"
   ]
  },
  {
   "cell_type": "code",
   "execution_count": 42,
   "metadata": {
    "collapsed": false
   },
   "outputs": [
    {
     "name": "stdout",
     "output_type": "stream",
     "text": [
      "<NSPoint x=283.90625 y=645.3359375>\n"
     ]
    }
   ],
   "source": [
    "def carbonScreenPointFromCocoaScreenPoint(cocoaPoint):\n",
    "    for screen in NSScreen.screens():\n",
    "        if NSPointInRect(cocoaPoint, screen.frame()):\n",
    "            screenHeight = screen.frame().size.height\n",
    "            return CGPointMake(cocoaPoint.x, screenHeight - cocoaPoint.y - 1)\n",
    "    else:\n",
    "        return CGPointMake(0, 0)\n",
    "        \n",
    "print carbonScreenPointFromCocoaScreenPoint(nsPoint)"
   ]
  },
  {
   "cell_type": "code",
   "execution_count": 45,
   "metadata": {
    "collapsed": false
   },
   "outputs": [
    {
     "data": {
      "text/plain": [
       "<NSPoint x=23.0 y=32.0>"
      ]
     },
     "execution_count": 45,
     "metadata": {},
     "output_type": "execute_result"
    }
   ],
   "source": [
    "CGPointMake(23,32)"
   ]
  },
  {
   "cell_type": "code",
   "execution_count": 46,
   "metadata": {
    "collapsed": false
   },
   "outputs": [
    {
     "ename": "NameError",
     "evalue": "name 'AXUIElementRef' is not defined",
     "output_type": "error",
     "traceback": [
      "\u001b[0;31m---------------------------------------------------------------------------\u001b[0m",
      "\u001b[0;31mNameError\u001b[0m                                 Traceback (most recent call last)",
      "\u001b[0;32m<ipython-input-46-a09678099ee5>\u001b[0m in \u001b[0;36m<module>\u001b[0;34m()\u001b[0m\n\u001b[0;32m----> 1\u001b[0;31m \u001b[0mAXUIElementRef\u001b[0m\u001b[0;34m\u001b[0m\u001b[0m\n\u001b[0m\u001b[1;32m      2\u001b[0m \u001b[0;31m#             AXUIElementRef newElement = NULL;\u001b[0m\u001b[0;34m\u001b[0m\u001b[0;34m\u001b[0m\u001b[0m\n",
      "\u001b[0;31mNameError\u001b[0m: name 'AXUIElementRef' is not defined"
     ]
    }
   ],
   "source": [
    "AXUIElementRef\n",
    "#             AXUIElementRef newElement = NULL;"
   ]
  },
  {
   "cell_type": "code",
   "execution_count": 53,
   "metadata": {
    "collapsed": false
   },
   "outputs": [
    {
     "ename": "ImportError",
     "evalue": "No module named ApplicationServices",
     "output_type": "error",
     "traceback": [
      "\u001b[0;31m---------------------------------------------------------------------------\u001b[0m",
      "\u001b[0;31mImportError\u001b[0m                               Traceback (most recent call last)",
      "\u001b[0;32m<ipython-input-53-4042c963edc2>\u001b[0m in \u001b[0;36m<module>\u001b[0;34m()\u001b[0m\n\u001b[0;32m----> 1\u001b[0;31m \u001b[0;32mimport\u001b[0m \u001b[0mApplicationServices\u001b[0m\u001b[0;34m\u001b[0m\u001b[0m\n\u001b[0m",
      "\u001b[0;31mImportError\u001b[0m: No module named ApplicationServices"
     ]
    }
   ],
   "source": [
    "import ApplicationServices "
   ]
  },
  {
   "cell_type": "code",
   "execution_count": 54,
   "metadata": {
    "collapsed": true
   },
   "outputs": [],
   "source": [
    "bndl = objc.loadBundle('CoreGraphics', globals(), '/System/Library/Frameworks/ApplicationServices.framework')\n"
   ]
  },
  {
   "cell_type": "code",
   "execution_count": 55,
   "metadata": {
    "collapsed": true
   },
   "outputs": [],
   "source": [
    "bndl = objc.loadBundle('AXUIElement', globals(), '/System/Library/Frameworks/ApplicationServices.framework')"
   ]
  },
  {
   "cell_type": "code",
   "execution_count": 56,
   "metadata": {
    "collapsed": false
   },
   "outputs": [
    {
     "data": {
      "text/plain": [
       "NSBundle </System/Library/Frameworks/ApplicationServices.framework> (loaded)"
      ]
     },
     "execution_count": 56,
     "metadata": {},
     "output_type": "execute_result"
    }
   ],
   "source": [
    "bndl"
   ]
  },
  {
   "cell_type": "code",
   "execution_count": 90,
   "metadata": {
    "collapsed": false
   },
   "outputs": [],
   "source": [
    "objc.loadBundleFunctions(bndl, globals(), [\n",
    "        ('AXAPIEnabled', 'B'),\n",
    "        ('AXUIElementCreateSystemWide', '@'),\n",
    "        ('AXUIElementCopyElementAtPosition', 'i{application=@}{x=f}{y=f}{element=@}'),\n",
    "        ('AXUIElementCopyAttributeNames', 'i{element=@}{names=@}')\n",
    "])"
   ]
  },
  {
   "cell_type": "code",
   "execution_count": 77,
   "metadata": {
    "collapsed": false
   },
   "outputs": [
    {
     "name": "stdout",
     "output_type": "stream",
     "text": [
      "True\n"
     ]
    }
   ],
   "source": [
    "print AXAPIEnabled()\n",
    "systemWide = AXUIElementCreateSystemWide()"
   ]
  },
  {
   "cell_type": "markdown",
   "metadata": {},
   "source": [
    "A signature consists of a set of characters, which each represent an element of the method’s signature. The elements include the return type, implicit arguments (like the instance pointer and selector for Objective-C messages), and explicit arguments. A number of modifiers are supported as well.\n",
    "\n",
    "    @   - object\n",
    "    i,I - int, unsigned int\n",
    "    :   - method selector (SEL)\n",
    "    @:  - instance and selector, means function is an\n",
    "    instance method (use after return type, before args)\n",
    "    V,v - void\n",
    "    B   - C++ bool (0 = false, other = true)\n",
    "    f   - float\n",
    "    d   - double\n",
    "    *   - charptr\n",
    "    s,S - short, unsigned short\n",
    "    l,L - long, unsigned long\n",
    "    q,Q - long long, unsigned long long\n",
    "    bn  - bit field of n bits\n",
    "    ?   - unknown type, void*, function pointers\n",
    "    c   - signed char\n",
    "    C   - unsigned char\n",
    "    ^t  - pointer to type t\n",
    "    #   - objc Class\n",
    "    [nt]- array of length n containing type t\n",
    "    {name=t..} - structure, where 't..' is the order and type of fields\n",
    "    (name=t..) - union, where 't..' is the types of union contents\n"
   ]
  },
  {
   "cell_type": "code",
   "execution_count": 78,
   "metadata": {
    "collapsed": false
   },
   "outputs": [
    {
     "ename": "NameError",
     "evalue": "name 'newElement' is not defined",
     "output_type": "error",
     "traceback": [
      "\u001b[0;31m---------------------------------------------------------------------------\u001b[0m",
      "\u001b[0;31mNameError\u001b[0m                                 Traceback (most recent call last)",
      "\u001b[0;32m<ipython-input-78-054c73e5d89b>\u001b[0m in \u001b[0;36m<module>\u001b[0;34m()\u001b[0m\n\u001b[0;32m----> 1\u001b[0;31m \u001b[0;32mprint\u001b[0m \u001b[0mAXUIElementCopyElementAtPosition\u001b[0m\u001b[0;34m(\u001b[0m\u001b[0msystemWide\u001b[0m\u001b[0;34m,\u001b[0m \u001b[0mnsPoint\u001b[0m\u001b[0;34m.\u001b[0m\u001b[0mx\u001b[0m\u001b[0;34m,\u001b[0m \u001b[0mnsPoint\u001b[0m\u001b[0;34m.\u001b[0m\u001b[0my\u001b[0m\u001b[0;34m,\u001b[0m \u001b[0mnewElement\u001b[0m\u001b[0;34m)\u001b[0m\u001b[0;34m\u001b[0m\u001b[0m\n\u001b[0m",
      "\u001b[0;31mNameError\u001b[0m: name 'newElement' is not defined"
     ]
    }
   ],
   "source": [
    "newElement\n",
    "print AXUIElementCopyElementAtPosition(systemWide, nsPoint.x, nsPoint.y, newElement)"
   ]
  },
  {
   "cell_type": "code",
   "execution_count": 91,
   "metadata": {
    "collapsed": false
   },
   "outputs": [
    {
     "ename": "TypeError",
     "evalue": "depythonifying struct, got no sequence",
     "output_type": "error",
     "traceback": [
      "\u001b[0;31m---------------------------------------------------------------------------\u001b[0m",
      "\u001b[0;31mTypeError\u001b[0m                                 Traceback (most recent call last)",
      "\u001b[0;32m<ipython-input-91-ce0d9ab8c7ac>\u001b[0m in \u001b[0;36m<module>\u001b[0;34m()\u001b[0m\n\u001b[1;32m      1\u001b[0m \u001b[0marr\u001b[0m \u001b[0;34m=\u001b[0m \u001b[0mCFArrayCreateMutable\u001b[0m\u001b[0;34m(\u001b[0m\u001b[0mNone\u001b[0m\u001b[0;34m,\u001b[0m \u001b[0;36m0\u001b[0m\u001b[0;34m,\u001b[0m \u001b[0mkCFTypeArrayCallBacks\u001b[0m\u001b[0;34m)\u001b[0m\u001b[0;34m\u001b[0m\u001b[0m\n\u001b[0;32m----> 2\u001b[0;31m \u001b[0mAXUIElementCopyAttributeNames\u001b[0m\u001b[0;34m(\u001b[0m\u001b[0msystemWide\u001b[0m\u001b[0;34m,\u001b[0m \u001b[0marr\u001b[0m\u001b[0;34m)\u001b[0m\u001b[0;34m\u001b[0m\u001b[0m\n\u001b[0m",
      "\u001b[0;31mTypeError\u001b[0m: depythonifying struct, got no sequence"
     ]
    }
   ],
   "source": [
    "arr = CFArrayCreateMutable(None, 0, kCFTypeArrayCallBacks)\n",
    "AXUIElementCopyAttributeNames(systemWide, arr)"
   ]
  },
  {
   "cell_type": "code",
   "execution_count": null,
   "metadata": {
    "collapsed": true
   },
   "outputs": [],
   "source": []
  }
 ],
 "metadata": {
  "kernelspec": {
   "display_name": "Python 2",
   "language": "python",
   "name": "python2"
  },
  "language_info": {
   "codemirror_mode": {
    "name": "ipython",
    "version": 2
   },
   "file_extension": ".py",
   "mimetype": "text/x-python",
   "name": "python",
   "nbconvert_exporter": "python",
   "pygments_lexer": "ipython2",
   "version": "2.7.9"
  }
 },
 "nbformat": 4,
 "nbformat_minor": 0
}
