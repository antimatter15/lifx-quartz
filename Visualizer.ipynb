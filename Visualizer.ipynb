{
 "metadata": {
  "name": "",
  "signature": "sha256:60efb1a71f3d8f0948dde52950007922c5d25abad94d40b7c156dd1cb56e67fa"
 },
 "nbformat": 3,
 "nbformat_minor": 0,
 "worksheets": [
  {
   "cells": [
    {
     "cell_type": "code",
     "collapsed": false,
     "input": [
      "def get_pixel_colour(i_x, i_y):\n",
      "\timport PyQt4.QtGui # python-qt4\n",
      "\tapp = PyQt4.QtGui.QApplication([])\n",
      "\tlong_qdesktop_id = PyQt4.QtGui.QApplication.desktop().winId()\n",
      "\tlong_colour = PyQt4.QtGui.QPixmap.grabWindow(long_qdesktop_id, i_x, i_y, 1, 1).toImage().pixel(0, 0)\n",
      "\ti_colour = int(long_colour)\n",
      "\treturn ((i_colour >> 16) & 0xff), ((i_colour >> 8) & 0xff), (i_colour & 0xff)\n",
      " \n"
     ],
     "language": "python",
     "metadata": {},
     "outputs": [
      {
       "output_type": "stream",
       "stream": "stdout",
       "text": [
        "(0, 0, 0)\n"
       ]
      }
     ],
     "prompt_number": 2
    },
    {
     "cell_type": "code",
     "collapsed": false,
     "input": [
      "print get_pixel_colour(200, 200)"
     ],
     "language": "python",
     "metadata": {},
     "outputs": [
      {
       "output_type": "stream",
       "stream": "stdout",
       "text": [
        "(0, 0, 0)\n"
       ]
      }
     ],
     "prompt_number": 35
    },
    {
     "cell_type": "code",
     "collapsed": false,
     "input": [
      "from subprocess import Popen, PIPE, STDOUT\n",
      "import time\n",
      "p = Popen(['ruby', 'bulb.rb'], stdout=PIPE, stdin=PIPE, stderr=STDOUT)\n",
      "while True:\n",
      "    r, g, b = get_pixel_colour(200, 200)\n",
      "    p.stdin.write(\"%d %d %d\\n\" % (r, g, b))\n",
      "#     print r, g, b\n",
      "    time.sleep(0.2)\n",
      "\n",
      "# grep_stdout = p.communicate(input='one\\ntwo\\nthree\\nfour\\nfive\\nsix\\n')[0]\n",
      "# print(grep_stdout)"
     ],
     "language": "python",
     "metadata": {},
     "outputs": []
    },
    {
     "cell_type": "code",
     "collapsed": false,
     "input": [],
     "language": "python",
     "metadata": {},
     "outputs": [],
     "prompt_number": 45
    },
    {
     "cell_type": "code",
     "collapsed": false,
     "input": [],
     "language": "python",
     "metadata": {},
     "outputs": []
    }
   ],
   "metadata": {}
  }
 ]
}